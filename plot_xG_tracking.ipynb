{
  "cells": [
    {
      "cell_type": "code",
      "execution_count": null,
      "metadata": {
        "collapsed": false
      },
      "outputs": [],
      "source": [
        "%matplotlib inline"
      ]
    },
    {
      "cell_type": "markdown",
      "metadata": {},
      "source": [
        "\n# Expected Goals including player positions\n\nIn this lesson, we go step-by-step through the process of making expected goals model\nwith additional information concerning opposition player location. This tutorial\nfollows similar design choices as Javier Fernandez's expected goals model in \n[A framework for the fine-grained evaluation of the instantaneous expected value of soccer possessions](https://link.springer.com/article/10.1007/s10994-021-05989-6).\nWe will train a shallow neural network with following features\n- ball location (x)\n- binary variable signifying if ball was closer to the goal than the opponent's goalkeeper\n- angle between the ball and the goal\n- distance between the ball and the goal\n- distance between the ball and the goalkeeper in y-axis\n- distance between the ball and the goalkeeper\n- number of opponent players inside the triangle formed between the ball location and opponent's goal posts\n- number of opponent players less than 3 meters away from the ball location\n- binary variable signifying if shot was a header\n- expected goals based on distance to goal and angle between the ball and the goal\n"
      ]
    },
    {
      "cell_type": "code",
      "execution_count": null,
      "metadata": {
        "collapsed": false
      },
      "outputs": [],
      "source": [
        "#importing necessary libraries\nfrom mplsoccer import Sbopen\nimport pandas as pd\nimport numpy as np\nimport warnings \nimport statsmodels.api as sm\nimport statsmodels.formula.api as smf\nimport matplotlib.pyplot as plt\nimport os\nimport random as rn\nimport tensorflow as tf\n#warnings not visible on the course webpage\npd.options.mode.chained_assignment = None\nwarnings.filterwarnings('ignore')\n\n#setting random seeds so that the results are reproducible on the webpage\nos.environ['PYTHONHASHSEED'] = '0'\nos.environ['CUDA_VISIBLE_DEVICES'] = ''\nnp.random.seed(1)\nrn.seed(1)\ntf.random.set_seed(1)\nos.environ['TF_CPP_MIN_LOG_LEVEL'] = '3'"
      ]
    },
    {
      "cell_type": "markdown",
      "metadata": {},
      "source": [
        "## Opening data\nFor this task we will use Statsbomb Indian Super League 2021/2022 data since it is the only dataset openly available that contains \nboth event and tracking data for the entire season. We open each game and store data for the entire season in dataframes *shot_df* and *track_df*.\nAlso, we change yards to meters. In the end we filter open play shots and remove shots without a goalkeeper tracked.\n\n"
      ]
    },
    {
      "cell_type": "code",
      "execution_count": null,
      "metadata": {
        "collapsed": false
      },
      "outputs": [],
      "source": [
        "parser = Sbopen()\n#get list of games during Indian Super League season\ndf_match = parser.match(competition_id=1238, season_id=108)\n\nmatches = df_match.match_id.unique()\n\nshot_df = pd.DataFrame()\ntrack_df = pd.DataFrame()\n#store data in one dataframe\nfor match in matches:\n    #open events\n    df_event = parser.event(match)[0]\n    #open 360 data\n    df_track = parser.event(match)[2]\n    #get shots\n    shots = df_event.loc[df_event[\"type_name\"] == \"Shot\"]\n    shots.x = shots.x.apply(lambda cell: cell*105/120)\n    shots.y = shots.y.apply(lambda cell: cell*68/80)\n    df_track.x = df_track.x.apply(lambda cell: cell*105/120)\n    df_track.y = df_track.y.apply(lambda cell: cell*68/80)\n    #append event and trackings to a dataframe\n    shot_df = pd.concat([shot_df, shots])\n    track_df = pd.concat([track_df, df_track])\n\n#reset indicies    \nshot_df.reset_index(drop=True, inplace=True)    \ntrack_df.reset_index(drop=True, inplace=True)  \n#filter out non open-play shots  \nshot_df = shot_df.loc[shot_df[\"sub_type_name\"] == \"Open Play\"]\n#filter out shots where goalkeeper was not tracked\ngks_tracked = track_df.loc[track_df[\"teammate\"] == False].loc[track_df[\"position_name\"] == \"Goalkeeper\"]['id'].unique()\nshot_df = shot_df.loc[shot_df[\"id\"].isin(gks_tracked)]"
      ]
    },
    {
      "cell_type": "markdown",
      "metadata": {},
      "source": [
        "## Feature engineering\nIn this section we will create features as described before. They will be stored in *model_vars* dataframe. \nWe suggest reading the code comments to understand this part of tutorial better.\n\n"
      ]
    },
    {
      "cell_type": "code",
      "execution_count": null,
      "metadata": {
        "collapsed": false
      },
      "outputs": [],
      "source": [
        "#take important variables from shot dataframe\nmodel_vars = shot_df[[\"id\", \"index\", \"x\", \"y\"]]\n#get the dependent variable\nmodel_vars[\"goal\"] = shot_df.outcome_name.apply(lambda cell: 1 if cell == \"Goal\" else 0)\n#change the dependent variable to object for basic xG modelling\nmodel_vars[\"goal_smf\"] = model_vars[\"goal\"].astype(object)\n# ball location (x)\nmodel_vars['x0'] = model_vars.x\n# x to calculate angle and distance\nmodel_vars[\"x\"] = model_vars.x.apply(lambda cell: 105-cell)\n# c to calculate angle and distance between ball and the goal as in Lesson 2\nmodel_vars[\"c\"] = model_vars.y.apply(lambda cell: abs(34-cell))\n#calculating angle and distance as in Lesson 2\nmodel_vars[\"angle\"] = np.where(np.arctan(7.32 * model_vars[\"x\"] / (model_vars[\"x\"]**2 + model_vars[\"c\"]**2 - (7.32/2)**2)) >= 0, np.arctan(7.32 * model_vars[\"x\"] /(model_vars[\"x\"]**2 + model_vars[\"c\"]**2 - (7.32/2)**2)), np.arctan(7.32 * model_vars[\"x\"] /(model_vars[\"x\"]**2 + model_vars[\"c\"]**2 - (7.32/2)**2)) + np.pi)*180/np.pi\nmodel_vars[\"distance\"] = np.sqrt(model_vars[\"x\"]**2 + model_vars[\"c\"]**2)\n\n#calculating basic xG using logistic regression\ndef params(df):\n    test_model = smf.glm(formula=\"goal_smf ~ angle + distance\", data=df,\n                               family=sm.families.Binomial()).fit()\n    #print summary\n    return test_model.params\ndef calculate_xG(sh, b):\n   bsum=b[0]\n   for i,v in enumerate([\"angle\", \"distance\"]):\n       bsum=bsum+b[i+1]*sh[v]\n   xG = 1/(1+np.exp(bsum))\n   return xG\n\n#expected goals based on distance to goal and angle between the ball and the goal\nb = params(model_vars)\nmodel_vars[\"xg_basic\"]= model_vars.apply(calculate_xG, b = b, axis=1)\n\n#ball_goalkeeper distance\ndef dist_to_gk(test_shot, track_df):\n    #get id of the shot to search for tracking data using this index\n    test_shot_id = test_shot[\"id\"]\n    #check goalkeeper position \n    gk_pos = track_df.loc[track_df[\"id\"] == test_shot_id].loc[track_df[\"teammate\"] == False].loc[track_df[\"position_name\"] == \"Goalkeeper\"][[\"x\", \"y\"]]\n    #calculate distance from event to goalkeeper position\n    dist = np.sqrt((test_shot[\"x\"] - gk_pos[\"x\"])**2 + (test_shot[\"y\"] - gk_pos[\"y\"])**2)\n    return dist.iloc[0]\n#store distance from event to goalkeeper position in a dataframe \nmodel_vars[\"gk_distance\"] = shot_df.apply(dist_to_gk, track_df = track_df, axis = 1)\n\n\n#ball goalkeeper y axis\ndef y_to_gk(test_shot, track_df):\n    #get id of the shot to search for tracking data using this index\n    test_shot_id = test_shot[\"id\"]\n    #calculate distance from event to goalkeeper position\n    gk_pos = track_df.loc[track_df[\"id\"] == test_shot_id].loc[track_df[\"teammate\"] == False].loc[track_df[\"position_name\"] == \"Goalkeeper\"][[\"y\"]]\n    #calculate distance from event to goalkeeper position in y axis\n    dist = abs(test_shot[\"y\"] - gk_pos[\"y\"])\n    return dist.iloc[0]\n\n#store distance in y axis from event to goalkeeper position in a dataframe \nmodel_vars[\"gk_distance_y\"] = shot_df.apply(y_to_gk, track_df = track_df, axis = 1)\n\n#number of players less than 3 meters away from the ball\ndef three_meters_away(test_shot, track_df):\n    #get id of the shot to search for tracking data using this index\n    test_shot_id = test_shot[\"id\"]\n    #get all opposition's player location\n    player_position = track_df.loc[track_df[\"id\"] == test_shot_id].loc[track_df[\"teammate\"] == False][[\"x\", \"y\"]]\n    #calculate their distance to the ball\n    dist = np.sqrt((test_shot[\"x\"] - player_position[\"x\"])**2 + (test_shot[\"y\"] - player_position[\"y\"])**2)\n    #return how many are closer to the ball than 3 meters\n    return len(dist[dist<3])\n#store number of opposition's players closer than 3 meters in a dataframe \nmodel_vars[\"close_players\"] = shot_df.apply(three_meters_away, track_df = track_df, axis = 1)\n\n#number of players inside a triangle\ndef players_in_triangle(test_shot, track_df):\n    #get id of the shot to search for tracking data using this index\n    test_shot_id = test_shot[\"id\"]\n    #get all opposition's player location\n    player_position = track_df.loc[track_df[\"id\"] == test_shot_id].loc[track_df[\"teammate\"] == False][[\"x\", \"y\"]]\n    #checking if point inside a triangle \n    x1 = 105\n    y1 = 34 - 7.32/2\n    x2 = 105\n    y2 = 34 + 7.32/2\n    x3 = test_shot[\"x\"]\n    y3 = test_shot[\"y\"]\n    xp = player_position[\"x\"]\n    yp = player_position[\"y\"]\n    c1 = (x2-x1)*(yp-y1)-(y2-y1)*(xp-x1)\n    c2 = (x3-x2)*(yp-y2)-(y3-y2)*(xp-x2)\n    c3 = (x1-x3)*(yp-y3)-(y1-y3)*(xp-x3)\n    #get number of players inside a triangle \n    return len(player_position.loc[((c1<0) & (c2<0) & (c3<0)) | ((c1>0) & (c2>0) & (c3>0))])\n\n#store number of opposition's players inside a triangle in a dataframe \nmodel_vars[\"triangle\"] = shot_df.apply(players_in_triangle, track_df = track_df, axis = 1)\n\n#goalkeeper distance to goal\ndef gk_dist_to_goal(test_shot, track_df):\n    #get id of the shot to search for tracking data using this index\n    test_shot_id = test_shot[\"id\"]\n    #get goalkeeper position\n    gk_pos = track_df.loc[track_df[\"id\"] == test_shot_id].loc[track_df[\"teammate\"] == False].loc[track_df[\"position_name\"] == \"Goalkeeper\"][[\"x\", \"y\"]]\n    #calculate their distance to goal\n    dist = np.sqrt((105 -gk_pos[\"x\"])**2 + (34 - gk_pos[\"y\"])**2)\n    return dist.iloc[0]\n    \n#store opposition's goalkeeper distance to goal in a dataframe \nmodel_vars[\"gk_dist_to_goal\"] = shot_df.apply(gk_dist_to_goal, track_df = track_df, axis = 1)\n#create binary varibale 1 if ball is closer to the goal than goalkeeper\nmodel_vars[\"is_closer\"] = np.where(model_vars[\"gk_dist_to_goal\"] > model_vars[\"distance\"], 1, 0)\n#create binary variable 1 if header\nmodel_vars[\"header\"] = shot_df.body_part_name.apply(lambda cell: 1 if cell == \"Head\" else 0)\n\n\n#store dependent variable in a numpy array\ny = model_vars[\"goal\"].values\n#store independent variables in a numpy array\nX = model_vars[[\"x0\", \"is_closer\", \"angle\", \"distance\", \"gk_distance\", \"gk_distance_y\", \"triangle\", \"close_players\", \"header\", \"xg_basic\"]].values"
      ]
    },
    {
      "cell_type": "markdown",
      "metadata": {},
      "source": [
        "## Training neural network \nWith the features created we can now train a neural network. We split the data 60% training, 20% validation and 20% test. Then, we scale inputs. \nAs the next step, we create a neural network model. It follows similar design choices as Javier Fernandez's one. 2 dense layers sized 10 followed \nby a ReLU activation and a final layer size 1 with sigmoid activation to compute the probabilities. Our model optimizes the Brier score using Adam\noptimizer with learning rate 0.001 default betas. We use as suggested early stopping with minimum delta 1e-5 and batch size 16. However, we also use patience\nequal to 50 not to stop the first time when the validation loss is not changing.\n\n"
      ]
    },
    {
      "cell_type": "code",
      "execution_count": null,
      "metadata": {
        "collapsed": false
      },
      "outputs": [],
      "source": [
        "#import machine learning libraries \nfrom sklearn.model_selection import train_test_split\nfrom sklearn.preprocessing import StandardScaler\nfrom tensorflow.keras import Sequential\nfrom tensorflow.keras.layers import Dense\nfrom tensorflow.keras.optimizers import Adam\nfrom tensorflow.keras.callbacks import EarlyStopping\n\n\n#spllit the data to train, validation and test\nX_train, X_test, y_train, y_test = train_test_split(X, y, train_size = 0.6, random_state = 123, stratify = y)\nX_cal, X_val, y_cal, y_val  = train_test_split(X_test, y_test, train_size = 0.5, random_state = 123, stratify = y_test)\n#scale data\nscaler = StandardScaler()\nX_train = scaler.fit_transform(X_train)\nX_val = scaler.transform(X_val)\nX_cal = scaler.transform(X_cal)\n\n#creating a function with a model architecture\ndef create_model():\n    model = Sequential([\n        Dense(10, activation='relu'),\n        Dense(10, activation='relu'),\n        Dense(1, activation = 'sigmoid'),\n    ])\n    opt = Adam(learning_rate=0.001, beta_1=0.9, beta_2=0.999)\n    model.compile(optimizer=opt, loss=\"mean_squared_error\" , metrics=['accuracy'])\n    return model\n\n#create model\nmodel = create_model()\n#create an early stopping object\ncallback = EarlyStopping(min_delta=1e-5, patience = 50, mode = \"min\", monitor = \"val_loss\", restore_best_weights=True)\n#fit the model \nhistory = model.fit(X_train, y_train, validation_data=(X_val, y_val), epochs=1000, verbose=1, batch_size=16, callbacks = [callback])    \n\nfig, axs = plt.subplots(2, figsize=(10,12))\n#plot training history - accuracy\naxs[0].plot(history.history['accuracy'], label='train')   \naxs[0].plot(history.history['val_accuracy'], label='validation')\naxs[0].set_title(\"Accuracy at each epoch\")\naxs[0].set_xlabel(\"Epoch\")\naxs[0].set_ylabel(\"Accuracy\")\naxs[0].legend()\n\n#plot training history - loss function\naxs[1].plot(history.history['loss'], label='train')   \naxs[1].plot(history.history['val_loss'], label='validation')\naxs[1].legend()\naxs[1].set_title(\"Loss at each epoch\")\naxs[1].set_xlabel(\"Epoch\")\naxs[1].set_ylabel(\"MSE\")\nplt.show()"
      ]
    },
    {
      "cell_type": "markdown",
      "metadata": {},
      "source": [
        "## Assessing our model\nTo assess our model, we calculate ROC AUC and investigate calibration curves. From the plots we can see that some of higher probabilities are\nunderestimated by our model, but these are satisfactory results given the number of data we have and a shallow network. Also, we calculate Brier score\non unseen data. It amounts to 0.08, which is a good score. \n\n"
      ]
    },
    {
      "cell_type": "code",
      "execution_count": null,
      "metadata": {
        "collapsed": false
      },
      "outputs": [],
      "source": [
        "#ROC CURVE\nfrom sklearn.metrics import roc_curve, roc_auc_score, brier_score_loss\nfig, axs = plt.subplots(2, figsize=(10,12))\ny_pred = model.predict(X_cal)\nfpr, tpr, _ = roc_curve(y_cal,  y_pred)\nauc = roc_auc_score(y_cal, y_pred)\naxs[0].plot(fpr,tpr,label= \"AUC = \" + str(auc)[:4])\naxs[0].plot([0, 1], [0, 1], color='black', ls = '--')\naxs[0].legend()\naxs[0].set_ylabel('True Positive Rate')\naxs[0].set_xlabel('False Positive Rate')\naxs[0].set_title('ROC curve')\n\n#CALIBRATION CURVE\nfrom sklearn.calibration import calibration_curve\nprob_true, prob_pred = calibration_curve(y_cal, y_pred, n_bins=10)\naxs[1].plot(prob_true, prob_pred)\naxs[1].plot([0, 1], [0, 1], color='black', ls = '--')\naxs[1].set_ylabel('Empirical Probability')\naxs[1].set_xlabel('Predicted Probability')\naxs[1].set_title(\"Calibration curve\")\nplt.show()\n#Brier score\nprint(\"Brier score\", brier_score_loss(y_cal, y_pred))"
      ]
    },
    {
      "cell_type": "markdown",
      "metadata": {},
      "source": [
        "## Calculating xG using our model during UEFA Euro 2020\nWith a trained model, we can now apply it on a dataset of our choice. We chose UEFA Euro 2020. First, we store the data the same way as for Indian \nSuper League. Then, we apply the same data transformations as on our training dataset. As the next step we scale our data and make predictions on them.\nThen, we try to find out 5 players that accumulated the highest open play Expected Goals during the tournament.\n\n"
      ]
    },
    {
      "cell_type": "code",
      "execution_count": null,
      "metadata": {
        "collapsed": false
      },
      "outputs": [],
      "source": [
        "#getting trackings and events for UEFA Euro the same way as we did for Indian Super League\ndf_match2 = parser.match(competition_id=55, season_id=43)\n#get array of match ids\nmatches2 = df_match2.match_id.unique()\nshot_df2 = pd.DataFrame()\ntrack_df2 = pd.DataFrame()\n#for each match store shots and trackings in dataframes for the entire season\nfor match in matches2:\n    df_event = parser.event(match)[0]\n    df_track = parser.event(match)[2]\n    shots = df_event.loc[df_event[\"type_name\"] == \"Shot\"]\n    shots.x = shots.x.apply(lambda cell: cell*105/120)\n    shots.y = shots.y.apply(lambda cell: cell*68/80)\n    df_track.x = df_track.x.apply(lambda cell: cell*105/120)\n    df_track.y = df_track.y.apply(lambda cell: cell*68/80)\n    \n    shot_df2 = pd.concat([shot_df2, shots])\n    track_df2 = pd.concat([track_df2, df_track])\n\n#reset indicies and remove shots that were not open play or when the goalkeeper was not tracked\nshot_df2 = shot_df2.loc[shot_df2[\"sub_type_name\"] == \"Open Play\"]   \nshot_df2.reset_index(drop=True, inplace=True)\ntrack_df2.reset_index(drop=True, inplace=True)\ngks_tracked2 = track_df2.loc[track_df2[\"teammate\"] == False].loc[track_df2[\"position_name\"] == \"Goalkeeper\"]['id'].unique()\nshot_df2 = shot_df2.loc[shot_df2[\"id\"].isin(gks_tracked2)]\n\n#DATA WRANGLING. DESCRIPTION OF THESE STEPS CAN BE FOUND IN FEATURE ENGINEERING PART\nmodel_vars2 = shot_df2[[\"id\", \"index\", \"x\", \"y\"]]\nmodel_vars2[\"goal\"] = shot_df2.outcome_name.apply(lambda cell: 1 if cell == \"Goal\" else 0)\nmodel_vars2[\"goal_smf\"] = model_vars2[\"goal\"].astype(object)\nmodel_vars2['x0'] = model_vars2.x\nmodel_vars2[\"x\"] = model_vars2.x.apply(lambda cell: 105-cell)\nmodel_vars2[\"c\"] = model_vars2.y.apply(lambda cell: abs(34-cell))\nmodel_vars2[\"angle\"] = np.where(np.arctan(7.32 * model_vars2[\"x\"] / (model_vars2[\"x\"]**2 + model_vars2[\"c\"]**2 - (7.32/2)**2)) >= 0, np.arctan(7.32 * model_vars2[\"x\"] /(model_vars2[\"x\"]**2 + model_vars2[\"c\"]**2 - (7.32/2)**2)), np.arctan(7.32 * model_vars2[\"x\"] /(model_vars2[\"x\"]**2 + model_vars2[\"c\"]**2 - (7.32/2)**2)) + np.pi)*180/np.pi\nmodel_vars2[\"distance\"] = np.sqrt(model_vars2[\"x\"]**2 + model_vars2[\"c\"]**2)\nmodel_vars2[\"xg_basic\"]= model_vars2.apply(calculate_xG, b = b, axis=1)\nmodel_vars2[\"gk_distance\"] = shot_df2.apply(dist_to_gk, track_df = track_df2, axis = 1)\nmodel_vars2[\"gk_distance_y\"] = shot_df2.apply(y_to_gk, track_df = track_df2, axis = 1)\nmodel_vars2[\"triangle\"] = shot_df2.apply(players_in_triangle, track_df = track_df2, axis = 1)\nmodel_vars2[\"close_players\"] = shot_df2.apply(three_meters_away, track_df = track_df2, axis = 1)\nmodel_vars2[\"gk_dist_to_goal\"] = shot_df2.apply(gk_dist_to_goal, track_df = track_df2, axis = 1)\nmodel_vars2[\"is_closer\"] = np.where(model_vars2[\"gk_dist_to_goal\"] > model_vars2[\"distance\"], 1, 0)\nmodel_vars2[\"header\"] = shot_df2.body_part_name.apply(lambda cell: 1 if cell == \"Head\" else 0)\n\n#store data in a matrix\nX_unseen = model_vars2[[\"x0\", \"is_closer\", \"angle\", \"distance\", \"gk_distance\", \"gk_distance_y\", \"triangle\", \"close_players\", \"header\", \"xg_basic\"]].values\n#scale data\nX_unseen = scaler.transform(X_unseen)\n#make predictions\nxgs_euro = model.predict(X_unseen)\n#find out which 5 players had the highest xG\nshot_df2[\"our_xG\"] = xgs_euro\nshot_df2.groupby([\"player_name\"])[\"our_xG\"].sum().sort_values(ascending = False)[:5].reset_index()"
      ]
    }
  ],
  "metadata": {
    "kernelspec": {
      "display_name": "Python 3",
      "language": "python",
      "name": "python3"
    },
    "language_info": {
      "codemirror_mode": {
        "name": "ipython",
        "version": 3
      },
      "file_extension": ".py",
      "mimetype": "text/x-python",
      "name": "python",
      "nbconvert_exporter": "python",
      "pygments_lexer": "ipython3",
      "version": "3.10.6"
    }
  },
  "nbformat": 4,
  "nbformat_minor": 0
}